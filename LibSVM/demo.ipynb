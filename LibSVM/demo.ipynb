{
 "metadata": {
  "language_info": {
   "codemirror_mode": {
    "name": "ipython",
    "version": 3
   },
   "file_extension": ".py",
   "mimetype": "text/x-python",
   "name": "python",
   "nbconvert_exporter": "python",
   "pygments_lexer": "ipython3",
   "version": "3.7.4-final"
  },
  "orig_nbformat": 2,
  "kernelspec": {
   "name": "python3",
   "display_name": "Python 3",
   "language": "python"
  }
 },
 "nbformat": 4,
 "nbformat_minor": 2,
 "cells": [
  {
   "source": [
    "# 利用LibSVM处理ljcnn1数据集"
   ],
   "cell_type": "markdown",
   "metadata": {}
  },
  {
   "source": [
    "导包"
   ],
   "cell_type": "markdown",
   "metadata": {}
  },
  {
   "cell_type": "code",
   "execution_count": 1,
   "metadata": {},
   "outputs": [],
   "source": [
    "from libsvm.svmutil import svm_train, svm_save_model, svm_predict\n",
    "from libsvm.commonutil import svm_read_problem"
   ]
  },
  {
   "source": [
    "### 读入数据\n",
    "数据格式为(label:list, data:list)\n"
   ],
   "cell_type": "markdown",
   "metadata": {}
  },
  {
   "cell_type": "code",
   "execution_count": 2,
   "metadata": {},
   "outputs": [],
   "source": [
    "train_data = svm_read_problem('dataset\\ijcnn1\\ijcnn1')\n",
    "test_data = svm_read_problem('dataset\\ijcnn1\\ijcnn1.t')"
   ]
  },
  {
   "source": [
    "### 训练模型\n",
    "参数\n",
    "**y**：label\n",
    "**x**：data"
   ],
   "cell_type": "markdown",
   "metadata": {}
  },
  {
   "source": [
    "model = svm_train(*(train_data))"
   ],
   "cell_type": "code",
   "metadata": {},
   "execution_count": 3,
   "outputs": []
  },
  {
   "source": [
    "### 验证模型准确率\n",
    "\n",
    "参数\\[y, x, m, option\\]\n",
    "\n",
    "**y**：真实label；\n",
    "\n",
    "**x**：测试数据；\n",
    "\n",
    "**m**：模型；\n",
    "\n",
    "**option**：'-b':预测概率，'-q'不预测概率；\n",
    "\n",
    "返回值\\[labels, acc, vals\\]\n",
    "\n",
    "**labels**：预测的label；\n",
    "\n",
    "**acc**：(模型准确率, 方差, 相关系数的平方)；\n",
    "\n",
    "**vals**：预测的概率值（如果option选择'b'）；\n"
   ],
   "cell_type": "markdown",
   "metadata": {}
  },
  {
   "cell_type": "code",
   "execution_count": 4,
   "metadata": {},
   "outputs": [
    {
     "output_type": "stream",
     "name": "stdout",
     "text": [
      "Accuracy = 92.7874% (85087/91701) (classification)\n"
     ]
    }
   ],
   "source": [
    "predict = svm_predict(*(test_data), model)"
   ]
  },
  {
   "cell_type": "code",
   "execution_count": 24,
   "metadata": {
    "tags": []
   },
   "outputs": [
    {
     "output_type": "stream",
     "name": "stdout",
     "text": [
      "3\n(92.78742870852008, 0.28850285165919676, 0.23058273902780835)\n"
     ]
    }
   ],
   "source": [
    "print(len(predict))\n",
    "print(predict[1])\n"
   ]
  }
 ]
}