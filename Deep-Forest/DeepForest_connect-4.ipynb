{
 "metadata": {
  "language_info": {
   "codemirror_mode": {
    "name": "ipython",
    "version": 3
   },
   "file_extension": ".py",
   "mimetype": "text/x-python",
   "name": "python",
   "nbconvert_exporter": "python",
   "pygments_lexer": "ipython3",
   "version": "3.7.4-final"
  },
  "orig_nbformat": 2,
  "kernelspec": {
   "name": "python3",
   "display_name": "Python 3",
   "language": "python"
  }
 },
 "nbformat": 4,
 "nbformat_minor": 2,
 "cells": [
  {
   "source": [
    "# Deep Forest (connect-4)测试"
   ],
   "cell_type": "markdown",
   "metadata": {}
  },
  {
   "source": [
    "导包"
   ],
   "cell_type": "markdown",
   "metadata": {}
  },
  {
   "cell_type": "code",
   "execution_count": 1,
   "metadata": {},
   "outputs": [],
   "source": [
    "from deepforest import CascadeForestClassifier\n",
    "from loadData import LoadLibSVMData\n",
    "from sklearn.model_selection import train_test_split"
   ]
  },
  {
   "source": [
    "### 加载数据\n"
   ],
   "cell_type": "markdown",
   "metadata": {}
  },
  {
   "cell_type": "code",
   "execution_count": 2,
   "metadata": {},
   "outputs": [
    {
     "output_type": "stream",
     "name": "stdout",
     "text": [
      "(50667, 126) (50667,)\n(16890, 126) (16890,)\n"
     ]
    }
   ],
   "source": [
    "data_x, data_y = LoadLibSVMData('dataset\\connect-4\\connect-4', 126)\n",
    "train_x, test_x, train_y, test_y = train_test_split(data_x, data_y, test_size=0.25, shuffle=True, random_state=21)\n",
    "test_y += 1 \n",
    "train_y += 1 # {-1, 0, 1} -> {0, 1, 2}\n",
    "print(train_x.shape, train_y.shape)\n",
    "print(test_x.shape, test_y.shape)"
   ]
  },
  {
   "source": [
    "### 创建模型\n",
    "\n",
    "参数\n",
    "\n",
    "n_bins=255：离散化的个数；\n",
    "\n",
    "bin_subsample=2e5\n",
    "\n",
    "bin_type=\"percentile\"\n",
    "\n",
    "max_layers=20：最大层数；\n",
    "\n",
    "n_estimators=2\n",
    "\n",
    "n_trees=100：每个predictor树的个数；\n",
    "\n",
    "max_depth=None：最大高度；\n",
    "\n",
    "min_samples_leaf=1\n",
    "\n",
    "use_predictor=False\n",
    "\n",
    "predictor=\"forest\"：predictor模式；\n",
    "\n",
    "n_tolerant_rounds=2\n",
    "\n",
    "delta=1e-5：终止条件；\n",
    "\n",
    "partial_mode=False\n",
    "\n",
    "n_jobs=None：多线程；\n",
    "\n",
    "random_state=None：随机种子\n",
    "\n",
    "verbose=1：详细信息或者模糊信息；\n"
   ],
   "cell_type": "markdown",
   "metadata": {}
  },
  {
   "cell_type": "code",
   "execution_count": 3,
   "metadata": {},
   "outputs": [],
   "source": [
    "model = CascadeForestClassifier(random_state=21)"
   ]
  },
  {
   "source": [
    "### 模型训练\n",
    " \n",
    "参数\n",
    "\n",
    "x：numpy.ndarray，(n_samples, n_features)\n",
    "\n",
    "y：numpy.ndarray，(n_samples,)"
   ],
   "cell_type": "markdown",
   "metadata": {}
  },
  {
   "cell_type": "code",
   "execution_count": 4,
   "metadata": {
    "tags": []
   },
   "outputs": [
    {
     "output_type": "stream",
     "name": "stdout",
     "text": [
      "[2021-02-02 03:11:41.851] Start to fit the model:\n",
      "[2021-02-02 03:11:41.851] Fitting cascade layer = 0 \n",
      "[2021-02-02 03:12:05.122] layer = 0  | Val Acc = 82.730 % | Elapsed = 23.272 s\n",
      "[2021-02-02 03:12:05.208] Fitting cascade layer = 1 \n",
      "[2021-02-02 03:12:28.511] layer = 1  | Val Acc = 83.587 % | Elapsed = 23.303 s\n",
      "[2021-02-02 03:12:28.582] Fitting cascade layer = 2 \n",
      "[2021-02-02 03:12:51.056] layer = 2  | Val Acc = 83.413 % | Elapsed = 22.473 s\n",
      "[2021-02-02 03:12:51.056] Early stopping counter: 1 out of 2\n",
      "[2021-02-02 03:12:51.127] Fitting cascade layer = 3 \n",
      "[2021-02-02 03:13:13.845] layer = 3  | Val Acc = 83.287 % | Elapsed = 22.718 s\n",
      "[2021-02-02 03:13:13.845] Early stopping counter: 2 out of 2\n",
      "[2021-02-02 03:13:13.846] Handling early stopping\n",
      "[2021-02-02 03:13:13.884] The optimal number of layers: 2\n"
     ]
    },
    {
     "output_type": "execute_result",
     "data": {
      "text/plain": [
       "<deepforest.cascade.CascadeForestClassifier at 0x25e848a04c8>"
      ]
     },
     "metadata": {},
     "execution_count": 4
    }
   ],
   "source": [
    "model.fit(train_x, train_y)"
   ]
  },
  {
   "source": [
    "### 模型预测"
   ],
   "cell_type": "markdown",
   "metadata": {}
  },
  {
   "cell_type": "code",
   "execution_count": 5,
   "metadata": {},
   "outputs": [
    {
     "output_type": "stream",
     "name": "stdout",
     "text": [
      "[2021-02-02 03:13:26.371] Start to evalute the model:\n",
      "[2021-02-02 03:13:26.402] Evaluating cascade layer = 0 \n",
      "[2021-02-02 03:13:27.589] Evaluating cascade layer = 1 \n",
      "acc:0.8437537004144464\n"
     ]
    }
   ],
   "source": [
    "prediction = model.predict(test_x)\n",
    "print('acc:{}'.format(sum(prediction == test_y)/len(test_y)))"
   ]
  }
 ]
}