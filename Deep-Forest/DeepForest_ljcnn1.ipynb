{
 "metadata": {
  "language_info": {
   "codemirror_mode": {
    "name": "ipython",
    "version": 3
   },
   "file_extension": ".py",
   "mimetype": "text/x-python",
   "name": "python",
   "nbconvert_exporter": "python",
   "pygments_lexer": "ipython3",
   "version": "3.7.4-final"
  },
  "orig_nbformat": 2,
  "kernelspec": {
   "name": "python3",
   "display_name": "Python 3",
   "language": "python"
  }
 },
 "nbformat": 4,
 "nbformat_minor": 2,
 "cells": [
  {
   "source": [
    "# Deep Forest 测试"
   ],
   "cell_type": "markdown",
   "metadata": {}
  },
  {
   "source": [
    "导包"
   ],
   "cell_type": "markdown",
   "metadata": {}
  },
  {
   "cell_type": "code",
   "execution_count": 1,
   "metadata": {},
   "outputs": [],
   "source": [
    "from deepforest import CascadeForestClassifier\n",
    "from loadData import LoadLibSVMData"
   ]
  },
  {
   "source": [
    "### 加载数据\n"
   ],
   "cell_type": "markdown",
   "metadata": {}
  },
  {
   "cell_type": "code",
   "execution_count": 2,
   "metadata": {},
   "outputs": [
    {
     "output_type": "stream",
     "name": "stdout",
     "text": [
      "(49990, 22) (49990,)\n(91701, 22) (91701,)\n"
     ]
    }
   ],
   "source": [
    "train_data = LoadLibSVMData('dataset\\ijcnn1\\ijcnn1', 22)\n",
    "test_data = LoadLibSVMData('dataset\\ijcnn1\\ijcnn1.t', 22)\n",
    "\n",
    "train_x, train_y = train_data\n",
    "test_x, test_y = test_data\n",
    "train_y = (train_y + 1) // 2\n",
    "test_y = (test_y + 1) // 2 # {-1, 1} -> {0, 1}\n",
    "print(train_x.shape, train_y.shape)\n",
    "print(test_x.shape, test_y.shape)"
   ]
  },
  {
   "source": [
    "### 创建模型\n",
    "\n",
    "参数\n",
    "\n",
    "n_bins=255：离散化的个数；\n",
    "\n",
    "bin_subsample=2e5\n",
    "\n",
    "bin_type=\"percentile\"\n",
    "\n",
    "max_layers=20：最大层数；\n",
    "\n",
    "n_estimators=2\n",
    "\n",
    "n_trees=100：每个predictor树的个数；\n",
    "\n",
    "max_depth=None：最大高度；\n",
    "\n",
    "min_samples_leaf=1\n",
    "\n",
    "use_predictor=False\n",
    "\n",
    "predictor=\"forest\"：predictor模式；\n",
    "\n",
    "n_tolerant_rounds=2\n",
    "\n",
    "delta=1e-5：终止条件；\n",
    "\n",
    "partial_mode=False\n",
    "\n",
    "n_jobs=None：多线程；\n",
    "\n",
    "random_state=None：随机种子\n",
    "\n",
    "verbose=1：详细信息或者模糊信息；\n"
   ],
   "cell_type": "markdown",
   "metadata": {}
  },
  {
   "cell_type": "code",
   "execution_count": 3,
   "metadata": {},
   "outputs": [],
   "source": [
    "model = CascadeForestClassifier(random_state=21)"
   ]
  },
  {
   "source": [
    "### 模型训练\n",
    " \n",
    "参数\n",
    "\n",
    "x：numpy.ndarray，(n_samples, n_features)\n",
    "\n",
    "y：numpy.ndarray，(n_samples,)"
   ],
   "cell_type": "markdown",
   "metadata": {}
  },
  {
   "cell_type": "code",
   "execution_count": 4,
   "metadata": {
    "tags": []
   },
   "outputs": [
    {
     "output_type": "stream",
     "name": "stdout",
     "text": [
      "[2021-02-01 13:54:56.914] Start to fit the model:\n",
      "[2021-02-01 13:54:56.914] Fitting cascade layer = 0 \n",
      "[2021-02-01 13:55:10.407] layer = 0  | Val Acc = 97.994 % | Elapsed = 13.493 s\n",
      "[2021-02-01 13:55:10.446] Fitting cascade layer = 1 \n",
      "[2021-02-01 13:55:22.128] layer = 1  | Val Acc = 98.736 % | Elapsed = 11.682 s\n",
      "[2021-02-01 13:55:22.158] Fitting cascade layer = 2 \n",
      "[2021-02-01 13:55:33.346] layer = 2  | Val Acc = 98.768 % | Elapsed = 11.187 s\n",
      "[2021-02-01 13:55:33.376] Fitting cascade layer = 3 \n",
      "[2021-02-01 13:55:44.722] layer = 3  | Val Acc = 98.764 % | Elapsed = 11.346 s\n",
      "[2021-02-01 13:55:44.722] Early stopping counter: 1 out of 2\n",
      "[2021-02-01 13:55:44.751] Fitting cascade layer = 4 \n",
      "[2021-02-01 13:55:56.943] layer = 4  | Val Acc = 98.748 % | Elapsed = 12.191 s\n",
      "[2021-02-01 13:55:56.943] Early stopping counter: 2 out of 2\n",
      "[2021-02-01 13:55:56.943] Handling early stopping\n",
      "[2021-02-01 13:55:56.945] The optimal number of layers: 3\n"
     ]
    },
    {
     "output_type": "execute_result",
     "data": {
      "text/plain": [
       "<deepforest.cascade.CascadeForestClassifier at 0x2338816a208>"
      ]
     },
     "metadata": {},
     "execution_count": 4
    }
   ],
   "source": [
    "model.fit(train_x, train_y)"
   ]
  },
  {
   "source": [
    "### 模型预测"
   ],
   "cell_type": "markdown",
   "metadata": {}
  },
  {
   "cell_type": "code",
   "execution_count": 5,
   "metadata": {},
   "outputs": [
    {
     "output_type": "stream",
     "name": "stdout",
     "text": [
      "[2021-02-01 13:56:00.306] Start to evalute the model:\n",
      "[2021-02-01 13:56:00.379] Evaluating cascade layer = 0 \n",
      "[2021-02-01 13:56:04.063] Evaluating cascade layer = 1 \n",
      "[2021-02-01 13:56:06.647] Evaluating cascade layer = 2 \n",
      "acc:0.9821048843524062\n"
     ]
    }
   ],
   "source": [
    "prediction = model.predict(test_x)\n",
    "print('acc:{}'.format(sum(prediction == test_y)/len(test_y)))"
   ]
  }
 ]
}