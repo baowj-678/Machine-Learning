{
 "metadata": {
  "language_info": {
   "codemirror_mode": {
    "name": "ipython",
    "version": 3
   },
   "file_extension": ".py",
   "mimetype": "text/x-python",
   "name": "python",
   "nbconvert_exporter": "python",
   "pygments_lexer": "ipython3",
   "version": "3.7.4-final"
  },
  "orig_nbformat": 2,
  "kernelspec": {
   "name": "python3",
   "display_name": "Python 3",
   "language": "python"
  }
 },
 "nbformat": 4,
 "nbformat_minor": 2,
 "cells": [
  {
   "source": [
    "# Deep Forest (fashion mnist)测试"
   ],
   "cell_type": "markdown",
   "metadata": {}
  },
  {
   "source": [
    "导包"
   ],
   "cell_type": "markdown",
   "metadata": {}
  },
  {
   "cell_type": "code",
   "execution_count": 1,
   "metadata": {},
   "outputs": [],
   "source": [
    "from deepforest import CascadeForestClassifier\n",
    "from loadData import LoadLibSVMData\n",
    "import tensorflow as tf\n",
    "import numpy as np"
   ]
  },
  {
   "source": [
    "### 加载数据\n"
   ],
   "cell_type": "markdown",
   "metadata": {}
  },
  {
   "cell_type": "code",
   "execution_count": 2,
   "metadata": {},
   "outputs": [
    {
     "output_type": "stream",
     "name": "stdout",
     "text": [
      "(60000, 784) (60000,)\n(10000, 784) (10000,)\n"
     ]
    }
   ],
   "source": [
    "(train_x, train_y), (test_x, test_y) = tf.keras.datasets.fashion_mnist.load_data()\n",
    "train_x = train_x.reshape(train_x.shape[0], -1).astype(np.float)\n",
    "test_x = test_x.reshape(test_x.shape[0], -1).astype(np.float)\n",
    "print(train_x.shape, train_y.shape)\n",
    "print(test_x.shape, test_y.shape)"
   ]
  },
  {
   "source": [
    "### 创建模型\n",
    "\n",
    "参数\n",
    "\n",
    "n_bins=255：离散化的个数；\n",
    "\n",
    "bin_subsample=2e5\n",
    "\n",
    "bin_type=\"percentile\"\n",
    "\n",
    "max_layers=20：最大层数；\n",
    "\n",
    "n_estimators=2\n",
    "\n",
    "n_trees=100：每个predictor树的个数；\n",
    "\n",
    "max_depth=None：最大高度；\n",
    "\n",
    "min_samples_leaf=1\n",
    "\n",
    "use_predictor=False\n",
    "\n",
    "predictor=\"forest\"：predictor模式；\n",
    "\n",
    "n_tolerant_rounds=2\n",
    "\n",
    "delta=1e-5：终止条件；\n",
    "\n",
    "partial_mode=False\n",
    "\n",
    "n_jobs=None：多线程；\n",
    "\n",
    "random_state=None：随机种子\n",
    "\n",
    "verbose=1：详细信息或者模糊信息；\n"
   ],
   "cell_type": "markdown",
   "metadata": {}
  },
  {
   "cell_type": "code",
   "execution_count": 3,
   "metadata": {},
   "outputs": [],
   "source": [
    "model = CascadeForestClassifier(random_state=21)"
   ]
  },
  {
   "source": [
    "### 模型训练\n",
    " \n",
    "参数\n",
    "\n",
    "x：numpy.ndarray，(n_samples, n_features)\n",
    "\n",
    "y：numpy.ndarray，(n_samples,)"
   ],
   "cell_type": "markdown",
   "metadata": {}
  },
  {
   "cell_type": "code",
   "execution_count": 4,
   "metadata": {
    "tags": []
   },
   "outputs": [
    {
     "output_type": "stream",
     "name": "stdout",
     "text": [
      "[2021-02-02 04:19:39.960] Start to fit the model:\n",
      "[2021-02-02 04:19:39.960] Fitting cascade layer = 0 \n",
      "[2021-02-02 04:22:25.070] layer = 0  | Val Acc = 88.503 % | Elapsed = 165.109 s\n",
      "[2021-02-02 04:22:25.437] Fitting cascade layer = 1 \n",
      "[2021-02-02 04:24:53.339] layer = 1  | Val Acc = 89.268 % | Elapsed = 147.902 s\n",
      "[2021-02-02 04:24:53.610] Fitting cascade layer = 2 \n",
      "[2021-02-02 04:27:20.460] layer = 2  | Val Acc = 89.553 % | Elapsed = 146.850 s\n",
      "[2021-02-02 04:27:20.738] Fitting cascade layer = 3 \n",
      "[2021-02-02 04:29:48.459] layer = 3  | Val Acc = 89.710 % | Elapsed = 147.722 s\n",
      "[2021-02-02 04:29:48.734] Fitting cascade layer = 4 \n",
      "[2021-02-02 04:32:15.656] layer = 4  | Val Acc = 89.800 % | Elapsed = 146.922 s\n",
      "[2021-02-02 04:32:15.931] Fitting cascade layer = 5 \n",
      "[2021-02-02 04:34:44.156] layer = 5  | Val Acc = 89.780 % | Elapsed = 148.224 s\n",
      "[2021-02-02 04:34:44.157] Early stopping counter: 1 out of 2\n",
      "[2021-02-02 04:34:44.433] Fitting cascade layer = 6 \n",
      "[2021-02-02 04:37:12.157] layer = 6  | Val Acc = 89.805 % | Elapsed = 147.723 s\n",
      "[2021-02-02 04:37:12.436] Fitting cascade layer = 7 \n",
      "[2021-02-02 04:39:39.777] layer = 7  | Val Acc = 89.808 % | Elapsed = 147.340 s\n",
      "[2021-02-02 04:39:40.060] Fitting cascade layer = 8 \n",
      "[2021-02-02 04:42:08.384] layer = 8  | Val Acc = 89.783 % | Elapsed = 148.324 s\n",
      "[2021-02-02 04:42:08.385] Early stopping counter: 1 out of 2\n",
      "[2021-02-02 04:42:08.666] Fitting cascade layer = 9 \n",
      "[2021-02-02 04:44:37.463] layer = 9  | Val Acc = 89.803 % | Elapsed = 148.795 s\n",
      "[2021-02-02 04:44:37.463] Early stopping counter: 2 out of 2\n",
      "[2021-02-02 04:44:37.463] Handling early stopping\n",
      "[2021-02-02 04:44:37.526] The optimal number of layers: 8\n"
     ]
    },
    {
     "output_type": "execute_result",
     "data": {
      "text/plain": [
       "<deepforest.cascade.CascadeForestClassifier at 0x20898879188>"
      ]
     },
     "metadata": {},
     "execution_count": 4
    }
   ],
   "source": [
    "model.fit(train_x, train_y)\n"
   ]
  },
  {
   "source": [
    "### 模型预测"
   ],
   "cell_type": "markdown",
   "metadata": {}
  },
  {
   "cell_type": "code",
   "execution_count": 5,
   "metadata": {},
   "outputs": [
    {
     "output_type": "stream",
     "name": "stdout",
     "text": [
      "[2021-02-02 04:52:37.195] Start to evalute the model:\n",
      "[2021-02-02 04:52:37.587] Evaluating cascade layer = 0 \n",
      "[2021-02-02 04:52:38.706] Evaluating cascade layer = 1 \n",
      "[2021-02-02 04:52:39.857] Evaluating cascade layer = 2 \n",
      "[2021-02-02 04:52:40.972] Evaluating cascade layer = 3 \n",
      "[2021-02-02 04:52:42.098] Evaluating cascade layer = 4 \n",
      "[2021-02-02 04:52:43.211] Evaluating cascade layer = 5 \n",
      "[2021-02-02 04:52:44.340] Evaluating cascade layer = 6 \n",
      "[2021-02-02 04:52:45.466] Evaluating cascade layer = 7 \n",
      "acc:0.8931\n"
     ]
    }
   ],
   "source": [
    "prediction = model.predict(test_x)\n",
    "print('acc:{}'.format(sum(prediction == test_y)/len(test_y)))"
   ]
  }
 ]
}